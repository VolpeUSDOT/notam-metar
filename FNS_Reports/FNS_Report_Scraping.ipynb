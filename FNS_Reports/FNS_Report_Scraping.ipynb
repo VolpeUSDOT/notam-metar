{
 "cells": [
  {
   "cell_type": "markdown",
   "metadata": {},
   "source": [
    "## Scraping NOTAMS from FAA Notam Reporting System (FNS)\n",
    "\n",
    "- Off Volpe VPN\n",
    "- Navigate to https://notams.aim.faa.gov/fnsreports\n",
    "- Log in with credentials\n",
    "- Select EN2 FSS NOTAM Action Report\n",
    "- Select Filter Name > Status > All\n",
    "- Select a date range, recommend no more than 15 days\n",
    "- Loop over a 36 month period from September 2017 to September 2020"
   ]
  },
  {
   "cell_type": "code",
   "execution_count": null,
   "metadata": {},
   "outputs": [],
   "source": [
    "import selenium"
   ]
  },
  {
   "cell_type": "code",
   "execution_count": null,
   "metadata": {},
   "outputs": [],
   "source": []
  }
 ],
 "metadata": {
  "kernelspec": {
   "display_name": "notamenv",
   "language": "python",
   "name": "notamenv"
  }
 },
 "nbformat": 4,
 "nbformat_minor": 4
}
